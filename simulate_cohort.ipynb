{
 "cells": [
  {
   "cell_type": "code",
   "execution_count": 1,
   "id": "90daac62",
   "metadata": {},
   "outputs": [],
   "source": [
    "import numpy as np\n",
    "import pandas as pd\n",
    "from scipy.stats import invgauss\n",
    "from lifelines import CoxPHFitter"
   ]
  },
  {
   "cell_type": "markdown",
   "id": "651a8c65",
   "metadata": {},
   "source": [
    "### Explore HR thta would manifest in a real-world cohort"
   ]
  },
  {
   "cell_type": "code",
   "execution_count": 2,
   "id": "41b4a106",
   "metadata": {},
   "outputs": [],
   "source": [
    "def rinvg(theta_0, N):  # random number following invG    \n",
    "    lam = 2 * theta_0  \n",
    "    mu = 1 / lam\n",
    "    y  = invgauss.rvs( mu, loc = 0, scale = lam, size=N)\n",
    "    return y"
   ]
  },
  {
   "cell_type": "code",
   "execution_count": 3,
   "id": "55cdee0c",
   "metadata": {},
   "outputs": [],
   "source": [
    "def calc_lambda_0(p0, theta_0, delta, rate, ln_r, invG): # returns lambda0 given parameters and initial risk p0\n",
    "    \n",
    "    if invG:  # frailty = inverse Gaussian  \n",
    "        y = - 0.5 * np.log(1- p0)/delta + delta\n",
    "        y =  y**2 - theta_0\n",
    "        y /= rate - 1  \n",
    "        return y * ln_r\n",
    "    \n",
    "    # frailty = Gamma       \n",
    "    y = -np.log(1-p0)/delta\n",
    "    y = (np.exp(y)-1)/(rate - 1) \n",
    "    return theta_0 * y * ln_r       "
   ]
  },
  {
   "cell_type": "code",
   "execution_count": 4,
   "id": "837e89a2",
   "metadata": {},
   "outputs": [],
   "source": [
    "def cohort_size(RR, RR_0, rate, p0, start, end):\n",
    "    '''\n",
    "    Returns a cohort_size given RR, rate, p0, t_0, and t_obs\n",
    "      1. calculate a sample size of each arm of a hypothetical RCT over [t_0, t_obs] to ensure 90% power to detect RR vs RR_0 with a two-sided 0.05 significance level,\n",
    "         where RR_0 denotes the minimal RR that has clinical significance      \n",
    "      2. return a cohort_size such that expected # of positive prior history satisfies the required sample size\n",
    "       \n",
    "    '''\n",
    "    h0  = -np.log(1 - p0)   \n",
    "    h0 /=  rate - 1                      # h0 = lambda_0/log(rate)\n",
    "    if RR_0 is None:        \n",
    "        RR_0 = 1 + 0.5*(RR-1)            # the default minimal effect is 50% of the assumed RR        \n",
    "    At = (rate**end - rate**start) * h0  # cumulative hazard from entry to end \n",
    "    A0 = (rate**start - 1) * h0          # cumulative hazard at the entry\n",
    "    S = np.exp(-At)\n",
    "    n = (RR + 1)*np.sqrt(RR_0)*1.96 + (RR_0 + 1)*np.sqrt(RR)*0.84\n",
    "    n /= RR - RR_0\n",
    "    n **= 2               # required # of events\n",
    "    n /= 2 - S - S**RR    # sample size of each arm\n",
    "    n /= 1 - np.exp(-A0)  # cohort size = arm size / expectation of prior history\n",
    "    return  (n//1000 + 1).astype(int) * 1000"
   ]
  },
  {
   "cell_type": "code",
   "execution_count": 5,
   "id": "9548a09f",
   "metadata": {},
   "outputs": [],
   "source": [
    "def generate_event(lambda_0, rate, ln_r, N):  # returns time to an event and the hazard at that time   # ln_r = log(rate)\n",
    "    \n",
    "    t = np.random.rand(N)                      # inverse transform sampling using \n",
    "    t = 1 - ln_r * np.log(1 - t)/lambda_0      \n",
    "    t = np.log(t) / ln_r\n",
    "    \n",
    "    return t, lambda_0 * rate**t\n",
    "\n",
    "def generate_event_d(lambda_0, rate, ln_r, N, start, d):    \n",
    "    '''\n",
    "    arg \n",
    "      d: maximal number of events per individual; set an integer large enough to ensure the d-th event occurs after entry\n",
    "      ln_r = log(rate)\n",
    "    value\n",
    "      (N, K)-numpy array of times to events \n",
    "       row; individuals\n",
    "       col: times to event 1, 2, ..., K,    \n",
    "    '''    \n",
    "    lambda_t = lambda_0\n",
    "    t = 0\n",
    "    tmin = 0    \n",
    "    t_ev_list = np.empty((N,d))\n",
    "    i = 0\n",
    "    while (tmin < start):\n",
    "        t_ev, lambda_t = generate_event(lambda_t, rate, ln_r, N)\n",
    "        t += t_ev\n",
    "        t_ev_list[:,i] = t\n",
    "        tmin = t.min()   \n",
    "        i += 1\n",
    "        if i >= d:\n",
    "            raise ValueError(\"Final event(s) occurred before entry! Set a larger d\")\n",
    "    return t_ev_list[:, :i]\n",
    "\n",
    "def sim_cohort(lambda_0, theta_0, rate, ln_r, start, follow, N, d, invG):\n",
    "\n",
    "    if invG:         \n",
    "        t = rinvg(theta_0, N)       \n",
    "    else:            \n",
    "        t = np.random.gamma(theta_0, 1/theta_0, N)    \n",
    "       \n",
    "    t *= lambda_0\n",
    "  \n",
    "    t = generate_event_d(t, rate, ln_r, N, start, d) # N x K array of time to events (K <= d)\n",
    "\n",
    "    history = t.min(axis = 1) < start   # prior history is positive if the first event occurred before entry\n",
    "    t -= start                          # time from entry to events\n",
    "    t = np.where(t > 0, t, 20)          # discard prior events (negative t) by making them sufficiently late\n",
    "    t = np.min(t, axis = 1)             # time to the first event after entry \n",
    "    event = t < follow  \n",
    "    t = np.where(event, t, follow)      # T = event*t + (1-event)*follow\n",
    "    t = pd.DataFrame({\"T\": t, \"event\": event, \"history\": history})\n",
    "\n",
    "    history  = history.mean()\n",
    "    event = t.groupby(\"history\")[\"event\"].mean().values \n",
    "    cph = CoxPHFitter()\n",
    "    cph.fit(t[[\"T\", 'event', 'history']], duration_col = 'T', event_col = 'event')\n",
    "       \n",
    "    return cph.params_[0].round(5), cph.variance_matrix_.values[0,0].round(5),  np.round(history,3),  *event.round(3)   "
   ]
  },
  {
   "cell_type": "code",
   "execution_count": 6,
   "id": "daee0bff",
   "metadata": {},
   "outputs": [],
   "source": [
    "def calc_summary(results, N, Nsim): \n",
    "    '''\n",
    "    values: an array\n",
    "         [0] coefficient (logHR) of prior history\n",
    "         [1]  95% CI of coefficient, lower \n",
    "         [2]  95% CI of coefficient, upper \n",
    "         [3] HR of prior history\n",
    "         [4]  95% CI of HR, lower \n",
    "         [5]  95% CI of HR, upper\n",
    "         [6] proportion of positive prior history\n",
    "         [7] proportion of failure among those without prior history  \n",
    "         [8] proportion of failure among those with prior history  \n",
    "         [9] cohort size\n",
    "    '''\n",
    "    v = results[:, 0].var()\n",
    "    mu = results[:, 0].mean()\n",
    "    v += np.mean(results[:, 1]**2)    # Var[X] = Var[E[X]] + E[Var[X]]\n",
    "    se = np.sqrt(v/Nsim)     \n",
    "    ci = mu + se * np.array([-1.959964, 1.959964])\n",
    "    mean_outcomes = results[:,2:].mean(axis = 0)   # history_positive, events among history_negative, events among history_positive  \n",
    "    res = np.hstack([mu, ci, np.exp(mu), np.exp(ci), mean_outcomes]).round(4)\n",
    "    return  *res, N"
   ]
  },
  {
   "cell_type": "code",
   "execution_count": 7,
   "id": "3c99e85c",
   "metadata": {},
   "outputs": [],
   "source": [
    "def simulate(lambda_0, theta_0, delta, rate, ln_r, invG, start, follow, N, d, Nsim):\n",
    "    res = list(map(lambda x: sim_cohort(lambda_0, theta_0, rate, ln_r, start, follow, N, d, invG), range(Nsim)))\n",
    "    res = calc_summary(np.array(res), N, Nsim)\n",
    "    return  res"
   ]
  },
  {
   "cell_type": "code",
   "execution_count": 8,
   "id": "eda48829",
   "metadata": {},
   "outputs": [],
   "source": [
    "def execute(r0, theta_0, delta, rate, ln_r, invG, start, follow, N, d, Nsim):\n",
    "    lambda_0 = calc_lambda_0(r0, theta_0, delta, rate, ln_r, invG = invG)\n",
    "    res = list(map(lambda lam, th, de, n: simulate(lam, th, de, rate, ln_r, invG, start, follow, n, d, Nsim), lambda_0, theta_0, delta, N) )\n",
    "    return res"
   ]
  },
  {
   "cell_type": "markdown",
   "id": "27e900f9",
   "metadata": {},
   "source": [
    "### Cohort setting"
   ]
  },
  {
   "cell_type": "code",
   "execution_count": 9,
   "id": "bfbcd646",
   "metadata": {},
   "outputs": [],
   "source": [
    "end = 5\n",
    "start = 2.5\n",
    "follow = end - start\n",
    "r0 = np.arange(2,7,2)*0.01"
   ]
  },
  {
   "cell_type": "markdown",
   "id": "e6169b6e",
   "metadata": {},
   "source": [
    "### Simulation setting"
   ]
  },
  {
   "cell_type": "code",
   "execution_count": 10,
   "id": "12a07350",
   "metadata": {},
   "outputs": [],
   "source": [
    "Nsim = 20\n",
    "d = 100"
   ]
  },
  {
   "cell_type": "markdown",
   "id": "082d85b1",
   "metadata": {},
   "source": [
    "### Parameters"
   ]
  },
  {
   "cell_type": "code",
   "execution_count": 11,
   "id": "8fd3d776",
   "metadata": {},
   "outputs": [],
   "source": [
    "invG = False      # for Gamma\n",
    "theta_0 = [0.70, 0.73, 0.76]   \n",
    "delta = theta_0\n",
    "RR = 2.5\n",
    "rate = 1.5**0.1\n",
    "ln_r = np.log(rate)"
   ]
  },
  {
   "cell_type": "code",
   "execution_count": null,
   "id": "013a3103",
   "metadata": {},
   "outputs": [],
   "source": [
    "invG = True      # for inv-Gaussian\n",
    "theta_0 = [0.28, 0.26, 0.25]\n",
    "delta = np.sqrt(theta_0)\n",
    "RR = 2.75\n",
    "rate = 1.5**0.1\n",
    "ln_r = np.log(rate)"
   ]
  },
  {
   "cell_type": "markdown",
   "id": "e626a543",
   "metadata": {},
   "source": [
    "## Simulate"
   ]
  },
  {
   "cell_type": "code",
   "execution_count": 12,
   "id": "bc174310",
   "metadata": {},
   "outputs": [
    {
     "name": "stdout",
     "output_type": "stream",
     "text": [
      "[30000  8000  4000]\n"
     ]
    }
   ],
   "source": [
    "N = cohort_size(RR, None, rate, r0, start, end)\n",
    "print(N)\n",
    "res = execute(r0, theta_0, delta, rate, ln_r, invG, start, follow, N, d, Nsim)\n",
    "res = pd.DataFrame(res)\n",
    "res.columns = [\"beta\", \"beta2.5\", \"beta97.5\", \"HR\", \"HR2.5\", \"HR97.5\",\"history\", \"event0\", \"event1\", \"N\"]\n",
    "res.index = r0"
   ]
  },
  {
   "cell_type": "code",
   "execution_count": 13,
   "id": "41072ef0",
   "metadata": {},
   "outputs": [
    {
     "data": {
      "text/html": [
       "<div>\n",
       "<style scoped>\n",
       "    .dataframe tbody tr th:only-of-type {\n",
       "        vertical-align: middle;\n",
       "    }\n",
       "\n",
       "    .dataframe tbody tr th {\n",
       "        vertical-align: top;\n",
       "    }\n",
       "\n",
       "    .dataframe thead th {\n",
       "        text-align: right;\n",
       "    }\n",
       "</style>\n",
       "<table border=\"1\" class=\"dataframe\">\n",
       "  <thead>\n",
       "    <tr style=\"text-align: right;\">\n",
       "      <th></th>\n",
       "      <th>beta</th>\n",
       "      <th>beta2.5</th>\n",
       "      <th>beta97.5</th>\n",
       "      <th>HR</th>\n",
       "      <th>HR2.5</th>\n",
       "      <th>HR97.5</th>\n",
       "      <th>history</th>\n",
       "      <th>event0</th>\n",
       "      <th>event1</th>\n",
       "      <th>N</th>\n",
       "    </tr>\n",
       "  </thead>\n",
       "  <tbody>\n",
       "    <tr>\n",
       "      <th>0.02</th>\n",
       "      <td>0.9213</td>\n",
       "      <td>0.8850</td>\n",
       "      <td>0.9576</td>\n",
       "      <td>2.5126</td>\n",
       "      <td>2.4229</td>\n",
       "      <td>2.6055</td>\n",
       "      <td>0.0499</td>\n",
       "      <td>0.0509</td>\n",
       "      <td>0.1235</td>\n",
       "      <td>30000</td>\n",
       "    </tr>\n",
       "    <tr>\n",
       "      <th>0.04</th>\n",
       "      <td>0.9175</td>\n",
       "      <td>0.8852</td>\n",
       "      <td>0.9498</td>\n",
       "      <td>2.5031</td>\n",
       "      <td>2.4235</td>\n",
       "      <td>2.5853</td>\n",
       "      <td>0.0952</td>\n",
       "      <td>0.0930</td>\n",
       "      <td>0.2167</td>\n",
       "      <td>8000</td>\n",
       "    </tr>\n",
       "    <tr>\n",
       "      <th>0.06</th>\n",
       "      <td>0.9440</td>\n",
       "      <td>0.9053</td>\n",
       "      <td>0.9827</td>\n",
       "      <td>2.5703</td>\n",
       "      <td>2.4728</td>\n",
       "      <td>2.6716</td>\n",
       "      <td>0.1404</td>\n",
       "      <td>0.1274</td>\n",
       "      <td>0.2958</td>\n",
       "      <td>4000</td>\n",
       "    </tr>\n",
       "  </tbody>\n",
       "</table>\n",
       "</div>"
      ],
      "text/plain": [
       "        beta  beta2.5  beta97.5      HR   HR2.5  HR97.5  history  event0  \\\n",
       "0.02  0.9213   0.8850    0.9576  2.5126  2.4229  2.6055   0.0499  0.0509   \n",
       "0.04  0.9175   0.8852    0.9498  2.5031  2.4235  2.5853   0.0952  0.0930   \n",
       "0.06  0.9440   0.9053    0.9827  2.5703  2.4728  2.6716   0.1404  0.1274   \n",
       "\n",
       "      event1      N  \n",
       "0.02  0.1235  30000  \n",
       "0.04  0.2167   8000  \n",
       "0.06  0.2958   4000  "
      ]
     },
     "execution_count": 13,
     "metadata": {},
     "output_type": "execute_result"
    }
   ],
   "source": [
    "res"
   ]
  },
  {
   "cell_type": "code",
   "execution_count": null,
   "id": "0824b23c",
   "metadata": {},
   "outputs": [],
   "source": []
  }
 ],
 "metadata": {
  "kernelspec": {
   "display_name": "Python 3 (ipykernel)",
   "language": "python",
   "name": "python3"
  },
  "language_info": {
   "codemirror_mode": {
    "name": "ipython",
    "version": 3
   },
   "file_extension": ".py",
   "mimetype": "text/x-python",
   "name": "python",
   "nbconvert_exporter": "python",
   "pygments_lexer": "ipython3",
   "version": "3.9.19"
  }
 },
 "nbformat": 4,
 "nbformat_minor": 5
}
