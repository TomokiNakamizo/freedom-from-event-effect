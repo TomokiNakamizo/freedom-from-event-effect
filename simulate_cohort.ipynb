{
 "cells": [
  {
   "cell_type": "code",
   "execution_count": 1,
   "id": "90daac62",
   "metadata": {},
   "outputs": [],
   "source": [
    "import numpy as np\n",
    "import pandas as pd\n",
    "from lifelines import CoxPHFitter\n",
    "from scipy.stats import invgauss"
   ]
  },
  {
   "cell_type": "markdown",
   "id": "651a8c65",
   "metadata": {},
   "source": [
    "### Explore HR that would be obtained in a real-world cohort"
   ]
  },
  {
   "cell_type": "code",
   "execution_count": 2,
   "id": "41b4a106",
   "metadata": {},
   "outputs": [],
   "source": [
    "def rinvg(theta_0, delta, N):  # random number following invG    \n",
    "    lam = 2 * delta**2   \n",
    "    mu = delta / ( np.sqrt(theta_0) * lam)\n",
    "    y  = invgauss.rvs( mu, loc = 0, scale = lam, size=N)\n",
    "    return y"
   ]
  },
  {
   "cell_type": "code",
   "execution_count": 3,
   "id": "55cdee0c",
   "metadata": {},
   "outputs": [],
   "source": [
    "def calc_lambda_0(p0, theta_0, delta, rate, a = 0, frailty =\"gamma\"): # returns baseline hazard lambda0 for a given p0\n",
    "    \n",
    "    if frailty == \"gamma\":        \n",
    "        r = -np.log(1-p0)/delta\n",
    "        r = (np.exp(r)-1)/(rate - 1) \n",
    "        lambda_0_ref = theta_0 * r * np.log(rate)        \n",
    "    \n",
    "    else:\n",
    "        y = - a * np.log(1 - p0)/delta + theta_0**a      \n",
    "        y =  y**(1/a) - theta_0\n",
    "        y /= rate - 1  \n",
    "        lambda_0_ref = y * np.log(rate)\n",
    "        \n",
    "    return lambda_0_ref"
   ]
  },
  {
   "cell_type": "code",
   "execution_count": 4,
   "id": "9548a09f",
   "metadata": {},
   "outputs": [],
   "source": [
    "def generate_event(lambda_0, rate, ln_r, N):  \n",
    "    \n",
    "    u = np.random.rand(N)\n",
    "    t = 1 - ln_r * np.log(1 - u)/lambda_0    \n",
    "    t = np.log(t) / ln_r\n",
    "    lambda_t = lambda_0 * rate**t     \n",
    "    \n",
    "    return t, lambda_t\n",
    "\n",
    "def generate_event_d(lambda_0, theta_0, delta, rate, a, N, start, d): \n",
    "    \n",
    "    ln_r = np.log(rate)\n",
    "    lambda_ = lambda_0\n",
    "    t = 0\n",
    "    tmin = 0    \n",
    "    t_ev_list = np.empty((N,d))\n",
    "    i = 0\n",
    "    while (tmin < start):\n",
    "        t_ev, lambda_ = generate_event(lambda_, rate, ln_r, N)\n",
    "        t += t_ev\n",
    "        t_ev_list[:,i] = t\n",
    "        tmin = t.min()   \n",
    "        i += 1\n",
    "    return t_ev_list[:, :i]\n",
    "\n",
    "def generate_cohort_dataset(lambda_0_ref, theta_0, delta, rate, start, end, N, d, frailty):\n",
    "    \n",
    "    if frailty == \"gamma\":       # Gamma \n",
    "        lambda_0_list = np.random.gamma(theta_0, 1/delta, N)\n",
    "        a = 0\n",
    "    else:  # inverse-Gaussian\n",
    "        lambda_0_list = rinvg(theta_0, delta, N)   # at this stage, lambda_0_list is a set of frailties\n",
    "        a = 0.5\n",
    "        \n",
    "    lambda_0_list *= lambda_0_ref \n",
    "  \n",
    "    t_seq = generate_event_d(lambda_0_list, theta_0, delta, rate, a, N, start, d)\n",
    "    observation = end - start\n",
    "    timin = t_seq.min(axis = 1)\n",
    "    history = timin < start\n",
    "    t_obs = t_seq - start\n",
    "    t_obs = np.where(t_obs > 0, t_obs, 100)\n",
    "    timin =  np.min(t_obs, axis = 1)\n",
    "    event = timin < observation    \n",
    "    df = pd.DataFrame({\"T\": timin, \"event\": event, \"history\": history})\n",
    "    \n",
    "    return df"
   ]
  },
  {
   "cell_type": "code",
   "execution_count": 5,
   "id": "5a6d0f89",
   "metadata": {},
   "outputs": [],
   "source": [
    "def cohort_study(lambda_0_ref, theta_0, delta, rate, start, end, N, d, frailty):\n",
    "   \n",
    "    df = generate_cohort_dataset(lambda_0_ref, theta_0, delta, rate, start, end, N, d, frailty)\n",
    "    prior = df[\"history\"].mean()\n",
    "    events = df.groupby(\"history\")[\"event\"].mean().values \n",
    "    cph = CoxPHFitter()\n",
    "    cph.fit(df[[\"T\", 'event', 'history']], duration_col = 'T', event_col = 'event')\n",
    "    \n",
    "    return cph.params_[0], cph.variance_matrix_.values[0,0], prior, *events   "
   ]
  },
  {
   "cell_type": "code",
   "execution_count": 6,
   "id": "9b6994a5",
   "metadata": {},
   "outputs": [],
   "source": [
    "def simulate_cohort(lambda_0_ref, theta_0, delta, rate, start, end, N, d, frailty, Nsim):\n",
    "    results = np.empty((Nsim, 5))    \n",
    "    for k in range(Nsim):\n",
    "        results[k,:] = cohort_study(lambda_0_ref, theta_0, delta, rate, start, end, N, d, frailty)\n",
    "    return results"
   ]
  },
  {
   "cell_type": "code",
   "execution_count": 7,
   "id": "daee0bff",
   "metadata": {},
   "outputs": [],
   "source": [
    "def calc_summary(results, ):\n",
    "    \"\"\"\n",
    "    values:\n",
    "        beta: coefficient of prior event\n",
    "        beta2.5, 97.5, 95%CI of beta\n",
    "        HR: hazard ratio of prior event\n",
    "        2.5%, 97.5%: 95%CI of HR\n",
    "        history: proportion of individuals with prior events\n",
    "        event_0: proportion of events among individuals without prior events\n",
    "        event_1: proportion of events among individuals with prior events\n",
    "    \"\"\"\n",
    "    Nsim = results.shape[0]\n",
    "    v = results[:,0].var()\n",
    "    m = results.mean(axis = 0)\n",
    "    se = np.sqrt((v + m[1])/Nsim )\n",
    "    ci = m[0] + se * np.array([-1.959964, 1.959964])\n",
    "    hr = np.exp( np.array([ m[0], ci[0], ci[1] ]) )\n",
    "    mean_outcomes = results[:,2:].mean(axis = 0)\n",
    "    res = [m[0], *ci, *hr, *mean_outcomes]\n",
    "    res = pd.Series(res)\n",
    "    res.index = [\"beta\", \"beta2.5\", \"beta97.5\", \"HR\", \"2.5%\", \"97.5%\", \"history\", \"event_0\", \"event_1\"]\n",
    "    res = res.round(2)\n",
    "    return res"
   ]
  },
  {
   "cell_type": "code",
   "execution_count": 8,
   "id": "7d9e82d9",
   "metadata": {},
   "outputs": [],
   "source": [
    "N = 8000\n",
    "Nsim = 100\n",
    "d = 100  # set an arbitrarily large integer to ensure that every individual enters the cohort\n",
    "\n",
    "# setting\n",
    "rate = 1.5**0.1\n",
    "RR = 2.5\n",
    "start = 1\n",
    "end = 5\n",
    "# initial risk\n",
    "p0 = 0.03  \n",
    "\n",
    "# parameters \n",
    "theta_0 = 0.67 \n",
    "delta   = 0.67\n",
    "# frailty \n",
    "frailty = \"gamma\"\n",
    "a = 0\n",
    "\n",
    "#  or \n",
    "# frailty = \"invG\"\n",
    "# a = 0.5\n"
   ]
  },
  {
   "cell_type": "code",
   "execution_count": 9,
   "id": "b0b6d9c1",
   "metadata": {},
   "outputs": [
    {
     "data": {
      "text/plain": [
       "beta        0.94\n",
       "beta2.5     0.90\n",
       "beta97.5    0.97\n",
       "HR          2.55\n",
       "2.5%        2.46\n",
       "97.5%       2.64\n",
       "history     0.03\n",
       "event_0     0.11\n",
       "event_1     0.27\n",
       "dtype: float64"
      ]
     },
     "execution_count": 9,
     "metadata": {},
     "output_type": "execute_result"
    }
   ],
   "source": [
    "lambda_0 = calc_lambda_0(p0, theta_0, delta, rate, a = a, frailty = \"gamma\")\n",
    "results = simulate_cohort(lambda_0_ref = lambda_0, theta_0 = theta_0, delta = delta, rate = rate,\n",
    "                           start = start, end = end, N = N, d = d, frailty = frailty,  Nsim = Nsim)\n",
    "res = calc_summary(results)\n",
    "res           "
   ]
  },
  {
   "cell_type": "code",
   "execution_count": null,
   "id": "31d6edda",
   "metadata": {},
   "outputs": [],
   "source": []
  }
 ],
 "metadata": {
  "kernelspec": {
   "display_name": "Python 3 (ipykernel)",
   "language": "python",
   "name": "python3"
  },
  "language_info": {
   "codemirror_mode": {
    "name": "ipython",
    "version": 3
   },
   "file_extension": ".py",
   "mimetype": "text/x-python",
   "name": "python",
   "nbconvert_exporter": "python",
   "pygments_lexer": "ipython3",
   "version": "3.8.12"
  }
 },
 "nbformat": 4,
 "nbformat_minor": 5
}
